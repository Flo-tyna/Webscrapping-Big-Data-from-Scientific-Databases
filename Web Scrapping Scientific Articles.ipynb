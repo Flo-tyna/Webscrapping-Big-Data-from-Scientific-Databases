{
 "cells": [
  {
   "cell_type": "markdown",
   "metadata": {},
   "source": [
    "# Web scrapping of Scientific Articles\n",
    "\n",
    "Automating as many tasks as possible saves precious time and resources. Data collection tasks is one of the fundamental duties, researchers are faced with. An easy to buils web scraping tool makes this task repeatable,verifiable, efficient and ultimately increases productivity and output. \n",
    "In this notebook, I have compiled a scrapping tool to automate collecting scientific articles from Pubmed and ArXiv databases.\n"
   ]
  },
  {
   "cell_type": "markdown",
   "metadata": {},
   "source": [
    "### Biopython\n",
    "The Biopython project is a bioinformatics library, written and designed for biologists. Biopython can read and write a variety of file formats. Additionally, it contains  classes which represent biological sequences and sequence annotations. Information from Bioinformatic databases can be easily accessed through the biopython tools.Some of the specialized modules include sequence alignment, protein structure, population genetics, phylogenetics, sequence motifs, and machine learning.\n",
    "ref: https://biopython.org/\n",
    " "
   ]
  },
  {
   "cell_type": "code",
   "execution_count": 1,
   "metadata": {},
   "outputs": [],
   "source": [
    "from Bio import Entrez\n",
    "#he Entrez module designed for querying databases at the National Center for \n",
    "#Biotechnology Information (NCBI), which include PubMed and PubMed Central\n",
    "import pandas as pd\n",
    "import numpy as np\n",
    "import matplotlib.pyplot as plt\n",
    "import seaborn as sns\n",
    "import regex as re\n",
    "\n",
    "import arxiv\n",
    "import arxivscraper\n",
    "import arxivscraper.arxivscraper as ax\n",
    "import requests\n",
    "\n",
    "\n",
    "\n"
   ]
  },
  {
   "cell_type": "markdown",
   "metadata": {},
   "source": [
    "### Scraping from PubMed\n",
    "PubMed is a huge repository of biomedical articles. The **E-Utilities** is an extremely helpful tool on the page as it acts akin to the API. Thus, enabling researchers to freely download large amounts of data.The queries are made throuh the HTTP requests in the browser which result in XML files of the queries.The Entrez module in BioPython is designed to query the National Center for Biotechnology Information (NCBI) databases directly.\n"
   ]
  },
  {
   "cell_type": "markdown",
   "metadata": {},
   "source": [
    "##### Method1\n",
    "These functions written by Marco Bonzanini , can be used to scrape articles from Pubmed by:\n",
    "1. Searching the database using Entrez \n",
    "2. Retrieving results\n",
    "3. Parsing  XML results and printing tab delimited output. # "
   ]
  },
  {
   "cell_type": "code",
   "execution_count": 2,
   "metadata": {},
   "outputs": [],
   "source": [
    "#defining a search function for the query\n",
    "def search(query):\n",
    "    Entrez.email = 'your.email@example.com'\n",
    "    handle = Entrez.esearch(db='pubmed', \n",
    "                            sort='relevance', #sort by the article's relevance\n",
    "                            retmax='10',#retrieve 30 articles\n",
    "                            retmode='xml', \n",
    "                            term=query)\n",
    "    results = Entrez.read(handle)\n",
    "    return results\n",
    "#fetching the details of the search function defined earlier\n",
    "def fetch_details(id_list):\n",
    "    ids = ','.join(id_list)\n",
    "    Entrez.email = 'your.email@example.com'\n",
    "    handle = Entrez.efetch(db='pubmed',\n",
    "                           retmode='xml',\n",
    "                           id=ids)\n",
    "    results = Entrez.read(handle)\n",
    "    return results"
   ]
  },
  {
   "cell_type": "code",
   "execution_count": 3,
   "metadata": {},
   "outputs": [
    {
     "name": "stdout",
     "output_type": "stream",
     "text": [
      "1) Effect of diurnal temperature range on outpatient visits for common cold in Shanghai, China.\n",
      "2) Prenatal exposure to ambient temperature variation increases the risk of common cold in children.\n",
      "3) Knowledge, Attitude And Practice Of Common Cold And Its Management Among Doctors Of Pakistan.\n",
      "4) Protocol for a randomised, single-blind, two-arm, parallel-group controlled trial of the efficacy of rhinothermy delivered by nasal high flow therapy in the treatment of the common cold.\n",
      "5) Association between moderately cold temperature and mortality in China.\n",
      "6) Common cold among young adults in China without a history of asthma or allergic rhinitis - associations with warmer climate zone, dampness and mould at home, and outdoor PM<sub>10</sub> and PM<sub>2.5</sub>.\n",
      "7) Efficacy and safety of Lian-Ju-Gan-Mao capsules for treating the common cold with wind-heat syndrome: study protocol for a randomized controlled trial.\n",
      "8) Common cold among pre-school children in China - associations with ambient PM<sub>10</sub> and dampness, mould, cats, dogs, rats and cockroaches in the home environment.\n",
      "9) Compound Formulas of Traditional Chinese Medicine for the Common Cold: Systematic Review of Randomized, Placebo-controlled Trials.\n",
      "10) Efficacy and safety of Gantong Granules in the treatment of common cold with wind-heat syndrome: study protocol for a randomized controlled trial.\n"
     ]
    }
   ],
   "source": [
    "if __name__ == '__main__':\n",
    "    results = search('cold')\n",
    "    id_list = results['IdList']\n",
    "    papers = fetch_details(id_list)\n",
    "    for i, paper in enumerate(papers['PubmedArticle']): \n",
    "        print(\"%d) %s\" % (i+1, paper['MedlineCitation']['Article']['ArticleTitle']))\n",
    "       # print(json.dumps(papers['PubmedArticle'][0], indent=2, separators=(',', ':')))# print the first article\n",
    " "
   ]
  },
  {
   "cell_type": "markdown",
   "metadata": {},
   "source": [
    "The first 10 articles, which are ordered according to their relevance are returned. These results can be written to  CSV file."
   ]
  },
  {
   "cell_type": "markdown",
   "metadata": {},
   "source": [
    "### Scraping from arXiv\n",
    "\n",
    "The ArXiV is another great pre-print repository of peer-reviewed journal articles. The biorXiv,database contains articles in the field of biology. Both databases follow the same OAI-PMH protocol.Functions can be written to scrape the database,or the Python library arxiv and arxivscraper can be used to simplify the process.  \n",
    "\n",
    "arXiv is a project by the Cornell University Library that provides open access to 1,000,000+ articles in Physics, Mathematics, Computer Science, Quantitative Biology, Quantitative Finance, and Statistics. https://pypi.org/project/arxiv/\n",
    "\n",
    "### Without filtering\n",
    "\n",
    "You can directly use arxivscraper in your scripts. Let's create a scraper to fetch all preprints in the quantitative biology category from 27 May 2020 until 7 June 2020:\n"
   ]
  },
  {
   "cell_type": "code",
   "execution_count": 4,
   "metadata": {},
   "outputs": [],
   "source": [
    "\n",
    "#scraping articles in the quantitative biology category\n",
    "scraper = arxivscraper.Scraper(category='q-bio', date_from='2020-05-27',date_until='2020-06-30')\n"
   ]
  },
  {
   "cell_type": "code",
   "execution_count": 5,
   "metadata": {},
   "outputs": [
    {
     "name": "stdout",
     "output_type": "stream",
     "text": [
      "fetching up to  1000 records...\n",
      "fetching is completed in 5.9 seconds.\n",
      "Total number of records 590\n"
     ]
    }
   ],
   "source": [
    "output = scraper.scrape()"
   ]
  },
  {
   "cell_type": "code",
   "execution_count": 6,
   "metadata": {},
   "outputs": [],
   "source": [
    "#Save the output in your prefered format or convert it into a pandas dataframe:\n",
    "import pandas as pd\n",
    "\n",
    "#converting to a dataframe\n",
    "cols = ('id', 'title', 'categories', 'abstract', 'doi', 'created', 'updated', 'authors')\n",
    "df = pd.DataFrame(output,columns=cols)"
   ]
  },
  {
   "cell_type": "code",
   "execution_count": 7,
   "metadata": {},
   "outputs": [
    {
     "data": {
      "text/html": [
       "<div>\n",
       "<style scoped>\n",
       "    .dataframe tbody tr th:only-of-type {\n",
       "        vertical-align: middle;\n",
       "    }\n",
       "\n",
       "    .dataframe tbody tr th {\n",
       "        vertical-align: top;\n",
       "    }\n",
       "\n",
       "    .dataframe thead th {\n",
       "        text-align: right;\n",
       "    }\n",
       "</style>\n",
       "<table border=\"1\" class=\"dataframe\">\n",
       "  <thead>\n",
       "    <tr style=\"text-align: right;\">\n",
       "      <th></th>\n",
       "      <th>id</th>\n",
       "      <th>title</th>\n",
       "      <th>categories</th>\n",
       "      <th>abstract</th>\n",
       "      <th>doi</th>\n",
       "      <th>created</th>\n",
       "      <th>updated</th>\n",
       "      <th>authors</th>\n",
       "    </tr>\n",
       "  </thead>\n",
       "  <tbody>\n",
       "    <tr>\n",
       "      <th>0</th>\n",
       "      <td>1207.3563</td>\n",
       "      <td>a mathematical model of the metabolic and perf...</td>\n",
       "      <td>q-bio.nc q-bio.to</td>\n",
       "      <td>cortical spreading depression (csd) is a slow-...</td>\n",
       "      <td>10.1371/journal.pone.0070469</td>\n",
       "      <td>2012-07-15</td>\n",
       "      <td>2013-06-15</td>\n",
       "      <td>[joshua c. chang, k. c. brennan, dongdong he, ...</td>\n",
       "    </tr>\n",
       "    <tr>\n",
       "      <th>1</th>\n",
       "      <td>1212.0621</td>\n",
       "      <td>development of spatial coarse-to-fine processi...</td>\n",
       "      <td>q-bio.nc</td>\n",
       "      <td>the sequential analysis of information in a co...</td>\n",
       "      <td>10.1186/1471-2202-14-s1-p294</td>\n",
       "      <td>2012-12-04</td>\n",
       "      <td>2013-07-16</td>\n",
       "      <td>[jasmine a. nirody]</td>\n",
       "    </tr>\n",
       "    <tr>\n",
       "      <th>2</th>\n",
       "      <td>1311.1481</td>\n",
       "      <td>assessment of the mers-cov epidemic situation ...</td>\n",
       "      <td>q-bio.pe q-bio.qm</td>\n",
       "      <td>the appearance of a novel coronavirus named mi...</td>\n",
       "      <td>10.2807/1560-7917.es2014.19.23.20824</td>\n",
       "      <td>2013-11-06</td>\n",
       "      <td>2014-05-05</td>\n",
       "      <td>[chiara poletto, camille pelat, daniel levy-br...</td>\n",
       "    </tr>\n",
       "    <tr>\n",
       "      <th>3</th>\n",
       "      <td>1505.03738</td>\n",
       "      <td>a domain-level dna strand displacement reactio...</td>\n",
       "      <td>cs.ce cs.et q-bio.mn</td>\n",
       "      <td>dna strand displacement systems have proven th...</td>\n",
       "      <td>10.1098/rsif.2019.0866</td>\n",
       "      <td>2015-05-11</td>\n",
       "      <td></td>\n",
       "      <td>[casey grun, karthik sarma, brian wolfe, seung...</td>\n",
       "    </tr>\n",
       "    <tr>\n",
       "      <th>4</th>\n",
       "      <td>1507.03703</td>\n",
       "      <td>alchemical grid dock (algdock): binding free e...</td>\n",
       "      <td>physics.chem-ph q-bio.bm</td>\n",
       "      <td>alchemical grid dock (algdock) is open-source ...</td>\n",
       "      <td>10.1002/jcc.26036</td>\n",
       "      <td>2015-07-13</td>\n",
       "      <td>2019-08-05</td>\n",
       "      <td>[david d. l minh]</td>\n",
       "    </tr>\n",
       "  </tbody>\n",
       "</table>\n",
       "</div>"
      ],
      "text/plain": [
       "           id                                              title  \\\n",
       "0   1207.3563  a mathematical model of the metabolic and perf...   \n",
       "1   1212.0621  development of spatial coarse-to-fine processi...   \n",
       "2   1311.1481  assessment of the mers-cov epidemic situation ...   \n",
       "3  1505.03738  a domain-level dna strand displacement reactio...   \n",
       "4  1507.03703  alchemical grid dock (algdock): binding free e...   \n",
       "\n",
       "                 categories  \\\n",
       "0         q-bio.nc q-bio.to   \n",
       "1                  q-bio.nc   \n",
       "2         q-bio.pe q-bio.qm   \n",
       "3      cs.ce cs.et q-bio.mn   \n",
       "4  physics.chem-ph q-bio.bm   \n",
       "\n",
       "                                            abstract  \\\n",
       "0  cortical spreading depression (csd) is a slow-...   \n",
       "1  the sequential analysis of information in a co...   \n",
       "2  the appearance of a novel coronavirus named mi...   \n",
       "3  dna strand displacement systems have proven th...   \n",
       "4  alchemical grid dock (algdock) is open-source ...   \n",
       "\n",
       "                                    doi     created     updated  \\\n",
       "0          10.1371/journal.pone.0070469  2012-07-15  2013-06-15   \n",
       "1          10.1186/1471-2202-14-s1-p294  2012-12-04  2013-07-16   \n",
       "2  10.2807/1560-7917.es2014.19.23.20824  2013-11-06  2014-05-05   \n",
       "3                10.1098/rsif.2019.0866  2015-05-11               \n",
       "4                     10.1002/jcc.26036  2015-07-13  2019-08-05   \n",
       "\n",
       "                                             authors  \n",
       "0  [joshua c. chang, k. c. brennan, dongdong he, ...  \n",
       "1                                [jasmine a. nirody]  \n",
       "2  [chiara poletto, camille pelat, daniel levy-br...  \n",
       "3  [casey grun, karthik sarma, brian wolfe, seung...  \n",
       "4                                  [david d. l minh]  "
      ]
     },
     "execution_count": 7,
     "metadata": {},
     "output_type": "execute_result"
    }
   ],
   "source": [
    "df.head()"
   ]
  },
  {
   "cell_type": "raw",
   "metadata": {},
   "source": [
    "### With filtering\n",
    "\n",
    "To have more control over the output, you could supply a dictionary to filter out the results. As an example, let's collect all preprints related to te. This subcategory (stat.ml) is part of the statistics category. In addition, we want those preprints in which the word tensorflow appears in the abstract.\n",
    "\n",
    "In addition to categories and abstract, author and title can also be used as the filter keys."
   ]
  },
  {
   "cell_type": "code",
   "execution_count": 8,
   "metadata": {},
   "outputs": [
    {
     "name": "stdout",
     "output_type": "stream",
     "text": [
      "fetching up to  1000 records...\n",
      "Got 503. Retrying after 10 seconds.\n",
      "fetching up to  1000 records...\n",
      "fetching up to  2000 records...\n",
      "Got 503. Retrying after 10 seconds.\n",
      "fetching up to  2000 records...\n",
      "fetching up to  3000 records...\n",
      "Got 503. Retrying after 10 seconds.\n",
      "fetching up to  3000 records...\n",
      "fetching up to  4000 records...\n",
      "Got 503. Retrying after 10 seconds.\n",
      "fetching up to  4000 records...\n",
      "fetching up to  5000 records...\n",
      "Got 503. Retrying after 10 seconds.\n",
      "fetching up to  5000 records...\n",
      "fetching is completed in 96.6 seconds.\n",
      "Total number of records 3421\n"
     ]
    }
   ],
   "source": [
    "\n",
    "scraper = ax.Scraper(category='stat',date_from='2020-10-01',date_until='2020-11-30',t=10, filters={'categories':['stat.ml'],'abstract':['tensorflow']})\n",
    "output = scraper.scrape()"
   ]
  },
  {
   "cell_type": "code",
   "execution_count": 9,
   "metadata": {},
   "outputs": [],
   "source": [
    "#Save the output in your prefered format or convert it into a pandas dataframe:\n",
    "\n",
    "#converting to a dataframe\n",
    "\n",
    "cols = ('id', 'title', 'categories', 'abstract', 'doi', 'created', 'updated', 'authors')\n",
    "filtered_df = pd.DataFrame(output,columns=cols)"
   ]
  },
  {
   "cell_type": "code",
   "execution_count": 10,
   "metadata": {},
   "outputs": [
    {
     "data": {
      "text/html": [
       "<div>\n",
       "<style scoped>\n",
       "    .dataframe tbody tr th:only-of-type {\n",
       "        vertical-align: middle;\n",
       "    }\n",
       "\n",
       "    .dataframe tbody tr th {\n",
       "        vertical-align: top;\n",
       "    }\n",
       "\n",
       "    .dataframe thead th {\n",
       "        text-align: right;\n",
       "    }\n",
       "</style>\n",
       "<table border=\"1\" class=\"dataframe\">\n",
       "  <thead>\n",
       "    <tr style=\"text-align: right;\">\n",
       "      <th></th>\n",
       "      <th>id</th>\n",
       "      <th>title</th>\n",
       "      <th>categories</th>\n",
       "      <th>abstract</th>\n",
       "      <th>doi</th>\n",
       "      <th>created</th>\n",
       "      <th>updated</th>\n",
       "      <th>authors</th>\n",
       "    </tr>\n",
       "  </thead>\n",
       "  <tbody>\n",
       "    <tr>\n",
       "      <th>0</th>\n",
       "      <td>1405.5576</td>\n",
       "      <td>on the theoretical guarantees for parameter es...</td>\n",
       "      <td>stat.ml stat.co</td>\n",
       "      <td>iterative methods for fitting a gaussian rando...</td>\n",
       "      <td></td>\n",
       "      <td>2014-05-21</td>\n",
       "      <td>2020-02-06</td>\n",
       "      <td>[sam davanloo tajbakhsh, necdet serhat aybat, ...</td>\n",
       "    </tr>\n",
       "    <tr>\n",
       "      <th>1</th>\n",
       "      <td>1503.03148</td>\n",
       "      <td>a neurodynamical system for finding a minimal ...</td>\n",
       "      <td>cs.lg stat.ml</td>\n",
       "      <td>the recently proposed minimal complexity machi...</td>\n",
       "      <td>10.1016/j.neunet.2020.08.013</td>\n",
       "      <td>2015-03-10</td>\n",
       "      <td></td>\n",
       "      <td>[n/a jayadeva, sumit soman, amit bhaya]</td>\n",
       "    </tr>\n",
       "    <tr>\n",
       "      <th>2</th>\n",
       "      <td>1503.07810</td>\n",
       "      <td>interpretable classification models for recidi...</td>\n",
       "      <td>stat.ml stat.ap</td>\n",
       "      <td>we investigate a long-debated question, which ...</td>\n",
       "      <td>10.1111/rssa.12227</td>\n",
       "      <td>2015-03-26</td>\n",
       "      <td>2016-07-07</td>\n",
       "      <td>[jiaming zeng, berk ustun, cynthia rudin]</td>\n",
       "    </tr>\n",
       "    <tr>\n",
       "      <th>3</th>\n",
       "      <td>1505.00398</td>\n",
       "      <td>block basis factorization for scalable kernel ...</td>\n",
       "      <td>stat.ml cs.lg cs.na</td>\n",
       "      <td>kernel methods are widespread in machine learn...</td>\n",
       "      <td>10.1137/18m1212586</td>\n",
       "      <td>2015-05-03</td>\n",
       "      <td>2019-04-16</td>\n",
       "      <td>[ruoxi wang, yingzhou li, michael w. mahoney, ...</td>\n",
       "    </tr>\n",
       "    <tr>\n",
       "      <th>4</th>\n",
       "      <td>1507.06217</td>\n",
       "      <td>persistence images: a stable vector representa...</td>\n",
       "      <td>cs.cg math.at stat.ml</td>\n",
       "      <td>many datasets can be viewed as a noisy samplin...</td>\n",
       "      <td></td>\n",
       "      <td>2015-07-22</td>\n",
       "      <td>2016-07-11</td>\n",
       "      <td>[henry adams, sofya chepushtanova, tegan emers...</td>\n",
       "    </tr>\n",
       "  </tbody>\n",
       "</table>\n",
       "</div>"
      ],
      "text/plain": [
       "           id                                              title  \\\n",
       "0   1405.5576  on the theoretical guarantees for parameter es...   \n",
       "1  1503.03148  a neurodynamical system for finding a minimal ...   \n",
       "2  1503.07810  interpretable classification models for recidi...   \n",
       "3  1505.00398  block basis factorization for scalable kernel ...   \n",
       "4  1507.06217  persistence images: a stable vector representa...   \n",
       "\n",
       "              categories                                           abstract  \\\n",
       "0        stat.ml stat.co  iterative methods for fitting a gaussian rando...   \n",
       "1          cs.lg stat.ml  the recently proposed minimal complexity machi...   \n",
       "2        stat.ml stat.ap  we investigate a long-debated question, which ...   \n",
       "3    stat.ml cs.lg cs.na  kernel methods are widespread in machine learn...   \n",
       "4  cs.cg math.at stat.ml  many datasets can be viewed as a noisy samplin...   \n",
       "\n",
       "                            doi     created     updated  \\\n",
       "0                                2014-05-21  2020-02-06   \n",
       "1  10.1016/j.neunet.2020.08.013  2015-03-10               \n",
       "2            10.1111/rssa.12227  2015-03-26  2016-07-07   \n",
       "3            10.1137/18m1212586  2015-05-03  2019-04-16   \n",
       "4                                2015-07-22  2016-07-11   \n",
       "\n",
       "                                             authors  \n",
       "0  [sam davanloo tajbakhsh, necdet serhat aybat, ...  \n",
       "1            [n/a jayadeva, sumit soman, amit bhaya]  \n",
       "2          [jiaming zeng, berk ustun, cynthia rudin]  \n",
       "3  [ruoxi wang, yingzhou li, michael w. mahoney, ...  \n",
       "4  [henry adams, sofya chepushtanova, tegan emers...  "
      ]
     },
     "execution_count": 10,
     "metadata": {},
     "output_type": "execute_result"
    }
   ],
   "source": [
    "filtered_df.head()"
   ]
  },
  {
   "cell_type": "code",
   "execution_count": 11,
   "metadata": {
    "scrolled": true
   },
   "outputs": [
    {
     "data": {
      "text/plain": [
       "(3421, 8)"
      ]
     },
     "execution_count": 11,
     "metadata": {},
     "output_type": "execute_result"
    }
   ],
   "source": [
    "filtered_df.shape"
   ]
  },
  {
   "cell_type": "markdown",
   "metadata": {},
   "source": [
    "#### Awesome! Congratulations on downloading all those research articles.\n",
    "Ok, so now you've got thousands of research articles to read and compile your report. Python can help you get through that task quickly as well. Head over to my Biomedical Text Summarization Tool to learn more and for further help:\n",
    "https://github.com/Flo-tyna/Biomedical-Text-Summarizer"
   ]
  },
  {
   "cell_type": "markdown",
   "metadata": {},
   "source": [
    "### References:\n",
    "     https://marcobonzanini.com/2015/01/12/searching-pubmed-with-python/\n",
    "     https://medium.com/@kliang933/scraping-big-data-from-public-research-repositories-e-g-pubmed-arxiv-2-488666f6f29b\n",
    "     http://biopython.org/DIST/docs/tutorial/Tutorial.html#sec4\n",
    "     https://dataguide.nlm.nih.gov/edirect/esearch.html\n",
    "     https://devpost.com/software/pubmed-web-scraper\n",
    "     https://github.com/kentaroy47/arxiv-scraping\n",
    "     https://gitlab.tu-berlin.de/NLP/arxivscraper#with-filtering"
   ]
  },
  {
   "cell_type": "code",
   "execution_count": null,
   "metadata": {},
   "outputs": [],
   "source": []
  }
 ],
 "metadata": {
  "kernelspec": {
   "display_name": "dl",
   "language": "python",
   "name": "dl"
  },
  "language_info": {
   "codemirror_mode": {
    "name": "ipython",
    "version": 3
   },
   "file_extension": ".py",
   "mimetype": "text/x-python",
   "name": "python",
   "nbconvert_exporter": "python",
   "pygments_lexer": "ipython3",
   "version": "3.6.11"
  }
 },
 "nbformat": 4,
 "nbformat_minor": 4
}
